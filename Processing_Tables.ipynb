{
 "cells": [
  {
   "cell_type": "markdown",
   "metadata": {},
   "source": [
    "### Libraries"
   ]
  },
  {
   "cell_type": "code",
   "execution_count": 1,
   "metadata": {},
   "outputs": [],
   "source": [
    "import numpy as np\n",
    "import pandas as pd"
   ]
  },
  {
   "cell_type": "markdown",
   "metadata": {},
   "source": [
    "### Functions"
   ]
  },
  {
   "cell_type": "code",
   "execution_count": 2,
   "metadata": {},
   "outputs": [],
   "source": [
    "def getColumnsLists(data):\n",
    "    '''\n",
    "    Purpose:\n",
    "        extracting a column with ids and others\n",
    "    Input:\n",
    "        data - pd.DataFrame()\n",
    "    Output:\n",
    "        id_job_column - a list of id_job column name\n",
    "        other_columns - a list of other columns names\n",
    "    '''\n",
    "    # extracting a column with ids\n",
    "    id_job_column = list(data.columns[(data.columns.isin(['id_job']))])\n",
    "    \n",
    "    # extracting name of the rest of columns\n",
    "    other_columns = list(data.columns[~(data.columns.isin(['id_job']))])\n",
    "    \n",
    "    return id_job_column, other_columns"
   ]
  },
  {
   "cell_type": "code",
   "execution_count": 3,
   "metadata": {},
   "outputs": [],
   "source": [
    "def Standard_Scaler(data):\n",
    "    '''\n",
    "    Purpose:\n",
    "        Z-scoring a table\n",
    "    Input:\n",
    "        data - pd.DataFrame(), a table of features of integer types\n",
    "    Output:\n",
    "        standardized data   \n",
    "    '''\n",
    "    \n",
    "    return ((data.iloc[:,1:] - data.iloc[:,1:].mean()) / data.iloc[:,1:].std()).values"
   ]
  },
  {
   "cell_type": "code",
   "execution_count": 4,
   "metadata": {},
   "outputs": [],
   "source": [
    "def mean_absolute_error(numpyarray):\n",
    "    '''\n",
    "    Purpose:\n",
    "        calculating mean absolute error\n",
    "    Input:\n",
    "        numpyarray - np.array of a feature\n",
    "    Output:\n",
    "        mae - mean absolute error of numpyarray\n",
    "    '''\n",
    "    \n",
    "    mae = np.mean(np.abs(numpyarray - np.mean(numpyarray)))\n",
    "    \n",
    "    return mae"
   ]
  },
  {
   "cell_type": "code",
   "execution_count": 5,
   "metadata": {},
   "outputs": [],
   "source": [
    "def createTable(data, columns, standardization_func):\n",
    "    \n",
    "    '''\n",
    "    Purpose:\n",
    "        converting all features except for id in a standardized \n",
    "        representation and indexes of max values and abs mean diff\n",
    "    Input:\n",
    "        data - pd.DataFrame(), data with ids and features\n",
    "        columns - a list of features except for ids\n",
    "        standardization_func - a function to convert raw features into \n",
    "            other representation\n",
    "    Output:\n",
    "        data_all - pd.DataFrame(), data with converted features into a\n",
    "            specific representation and some statistics as well for a \n",
    "            specific code name\n",
    "    '''\n",
    "    \n",
    "    # initializing an empty table\n",
    "    data_all = pd.DataFrame()\n",
    "    \n",
    "    # looping over all code name features\n",
    "    for column in columns:\n",
    "\n",
    "        # splitting the feature into 256 features and a code name\n",
    "        data = data[column].str.split(\",\", expand=True).astype(int)\n",
    "\n",
    "        # extracting a code name\n",
    "        code_number = str(data.iloc[0,0])\n",
    "\n",
    "        # creating columns\n",
    "        columns = list(map(lambda x: 'features_' + code_number + '_stand_' + str(x), data.columns[1:]))\n",
    "\n",
    "        # standardizing features\n",
    "        # a function standardization_func should return a matrix, numpy array\n",
    "        data_st = pd.DataFrame(data=standardization_func(data),\n",
    "                               columns=columns)\n",
    "\n",
    "        # extracting indexes of a max value of each feature\n",
    "        data_max = data.iloc[:,1:].idxmax(axis=1).rename('max_feature_' + code_number + '_index').reset_index(drop=True)\n",
    "\n",
    "        # taking an mean absolute error\n",
    "        data_max_abs_mean_diff = pd.DataFrame(data = [\n",
    "            mean_absolute_error(data.iloc[:,i].values) for i in tr.max_feature_2_index],\n",
    "                                              columns = ['max_feature_' + code_number + 'abs_mean_diff'])\n",
    "\n",
    "        # concatenating all stats into one table and concatenating to the previous state of the table\n",
    "        data_all = pd.concat([data_all, data_st, data_max, data_max_abs_mean_diff], axis=1)\n",
    "        \n",
    "    return data_all"
   ]
  },
  {
   "cell_type": "code",
   "execution_count": 6,
   "metadata": {},
   "outputs": [],
   "source": [
    "def load_data(file_name):\n",
    "    '''\n",
    "    Purpose:\n",
    "        loading data\n",
    "    Input:\n",
    "        file_name - string, a file name\n",
    "    '''\n",
    "        \n",
    "    return pd.read_csv(file_name, sep='\\t')"
   ]
  },
  {
   "cell_type": "code",
   "execution_count": 7,
   "metadata": {},
   "outputs": [],
   "source": [
    "def main(file_name):\n",
    "    '''\n",
    "    Purpose:\n",
    "        converting a file to a specific file with statistics\n",
    "    Input:\n",
    "        file_name - string, a file name\n",
    "    Output:\n",
    "        saved a preprocessed data\n",
    "    '''\n",
    "    \n",
    "    # loading data\n",
    "    data = load_data(file_name)\n",
    "    \n",
    "    # extracting columns names\n",
    "    id_job_column, other_columns = getColumnsLists(data)\n",
    "    \n",
    "    # calculating statistics\n",
    "    data_all = createTable(data, other_columns, Standard_Scaler)\n",
    "    \n",
    "    # concatenating ids and stats\n",
    "    data_proc = pd.concat([data[id_job_column], data_all], axis=1)\n",
    "    \n",
    "    # recording data to a file\n",
    "    data_proc.to_csv(file_name.replace('.tsv', '') + '_proc.tsv', sep='\\t', index=False)\n",
    "    "
   ]
  },
  {
   "cell_type": "markdown",
   "metadata": {},
   "source": [
    "### Constants"
   ]
  },
  {
   "cell_type": "code",
   "execution_count": 1,
   "metadata": {},
   "outputs": [],
   "source": [
    "file_name_train = 'train.tsv'\n",
    "file_name_test = 'test.tsv'"
   ]
  },
  {
   "cell_type": "markdown",
   "metadata": {},
   "source": [
    "### Main"
   ]
  },
  {
   "cell_type": "code",
   "execution_count": 2,
   "metadata": {},
   "outputs": [],
   "source": [
    "from Processing_Tables import *"
   ]
  },
  {
   "cell_type": "code",
   "execution_count": 3,
   "metadata": {},
   "outputs": [],
   "source": [
    "if __name__ == '__main__':\n",
    "    \n",
    "    main(file_name_train)\n",
    "    main(file_name_test)"
   ]
  },
  {
   "cell_type": "code",
   "execution_count": null,
   "metadata": {},
   "outputs": [],
   "source": []
  },
  {
   "cell_type": "code",
   "execution_count": null,
   "metadata": {},
   "outputs": [],
   "source": []
  },
  {
   "cell_type": "code",
   "execution_count": null,
   "metadata": {},
   "outputs": [],
   "source": []
  },
  {
   "cell_type": "code",
   "execution_count": null,
   "metadata": {},
   "outputs": [],
   "source": []
  },
  {
   "cell_type": "code",
   "execution_count": null,
   "metadata": {},
   "outputs": [],
   "source": []
  },
  {
   "cell_type": "code",
   "execution_count": null,
   "metadata": {},
   "outputs": [],
   "source": []
  },
  {
   "cell_type": "code",
   "execution_count": null,
   "metadata": {},
   "outputs": [],
   "source": []
  }
 ],
 "metadata": {
  "kernelspec": {
   "display_name": "Python 3",
   "language": "python",
   "name": "python3"
  },
  "language_info": {
   "codemirror_mode": {
    "name": "ipython",
    "version": 3
   },
   "file_extension": ".py",
   "mimetype": "text/x-python",
   "name": "python",
   "nbconvert_exporter": "python",
   "pygments_lexer": "ipython3",
   "version": "3.7.4"
  }
 },
 "nbformat": 4,
 "nbformat_minor": 2
}
